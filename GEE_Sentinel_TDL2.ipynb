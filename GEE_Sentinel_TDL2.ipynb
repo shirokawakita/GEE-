{
  "nbformat": 4,
  "nbformat_minor": 0,
  "metadata": {
    "colab": {
      "name": "GEE_Sentinel_TDL2.ipynb",
      "provenance": [],
      "collapsed_sections": []
    },
    "kernelspec": {
      "name": "python3",
      "display_name": "Python 3"
    }
  },
  "cells": [
    {
      "cell_type": "code",
      "metadata": {
        "id": "O3VyW9W41cOW",
        "colab_type": "code",
        "colab": {}
      },
      "source": [
        "import ee\n",
        "import numpy as np\n",
        "import matplotlib.pyplot as plt\n",
        "\n",
        "ee.Authenticate()\n",
        "ee.Initialize()"
      ],
      "execution_count": null,
      "outputs": []
    },
    {
      "cell_type": "code",
      "metadata": {
        "id": "qPktO37iYPHR",
        "colab_type": "code",
        "colab": {}
      },
      "source": [
        "from google.colab import drive\n",
        "drive.mount('/content/drive')"
      ],
      "execution_count": null,
      "outputs": []
    },
    {
      "cell_type": "code",
      "metadata": {
        "id": "Il3HhLSnYU9J",
        "colab_type": "code",
        "colab": {}
      },
      "source": [
        "# パッケージのインストール&インポート\n",
        "!pip install rasterio\n",
        "import numpy as np\n",
        "import matplotlib.pyplot as plt\n",
        "import rasterio\n",
        "\n",
        "import json\n",
        "import os\n",
        "import glob\n",
        "\n",
        "import time\n",
        "from datetime import datetime\n",
        "from dateutil.parser import parse"
      ],
      "execution_count": null,
      "outputs": []
    },
    {
      "cell_type": "code",
      "metadata": {
        "id": "HKXzao2Holmk",
        "colab_type": "code",
        "colab": {}
      },
      "source": [
        "!pip install folium\n",
        "\n",
        "import folium"
      ],
      "execution_count": null,
      "outputs": []
    },
    {
      "cell_type": "markdown",
      "metadata": {
        "id": "y8vYr1FS20Ae",
        "colab_type": "text"
      },
      "source": [
        "関心域のポリゴン作成およびその位置情報を取得するWebアプリを作成しました．以下のサイトより，関心粋の選択（左の作成チールより四角を選択），ポリゴンを作成。その後”Show feature”をクリックしポリゴン情報を右枠に表示させ、Copyを押して情報をコピーする。"
      ]
    },
    {
      "cell_type": "code",
      "metadata": {
        "id": "QEk_FWSK2i7y",
        "colab_type": "code",
        "colab": {}
      },
      "source": [
        "#関心領域のポリゴン情報の取得．\n",
        "from IPython.display import HTML\n",
        "HTML(r'<iframe width=\"1000\" height=\"580\" src=\"https://gispolygon.herokuapp.com/\" frameborder=\"0\"></iframe>')"
      ],
      "execution_count": null,
      "outputs": []
    },
    {
      "cell_type": "markdown",
      "metadata": {
        "id": "s6hpDv6024wB",
        "colab_type": "text"
      },
      "source": [
        "ポリゴン情報をコピーし，以下のAの右辺にペーストする．"
      ]
    },
    {
      "cell_type": "code",
      "metadata": {
        "id": "9wt4mC9C2jK5",
        "colab_type": "code",
        "colab": {}
      },
      "source": [
        "A = {\"type\":\"FeatureCollection\",\"features\":[{\"properties\":{\"note\":\"\",\"distance\":\"1127.16 m\",\"drawtype\":\"rectangle\",\"area\":\"11.71 ha\"},\"type\":\"Feature\",\"geometry\":{\"type\":\"Polygon\",\"coordinates\":[[[139.87487004138532,35.63225823758155],[139.87487004138532,35.6360949926148],[139.87790093757215,35.6360949926148],[139.87790093757215,35.63225823758155],[139.87487004138532,35.63225823758155]]]}}]}"
      ],
      "execution_count": null,
      "outputs": []
    },
    {
      "cell_type": "code",
      "metadata": {
        "id": "L_T0eVyU2jUf",
        "colab_type": "code",
        "colab": {}
      },
      "source": [
        "#今後使用する任意のファイル名をセットする． 例えば，地域の名前など．\n",
        "object_name = 'Tokyo_TDL2'"
      ],
      "execution_count": null,
      "outputs": []
    },
    {
      "cell_type": "code",
      "metadata": {
        "id": "9jHS-sSZ3IQR",
        "colab_type": "code",
        "colab": {}
      },
      "source": [
        "with open(str(object_name) +'_2.geojson', 'w') as f:\n",
        "    json.dump(A, f)"
      ],
      "execution_count": null,
      "outputs": []
    },
    {
      "cell_type": "code",
      "metadata": {
        "id": "vep1xZ6z3Iei",
        "colab_type": "code",
        "colab": {}
      },
      "source": [
        "json_file = open(str(object_name) +'_2.geojson')\n",
        "json_object = json.load(json_file)"
      ],
      "execution_count": null,
      "outputs": []
    },
    {
      "cell_type": "code",
      "metadata": {
        "id": "qlG0IfEH3H_-",
        "colab_type": "code",
        "colab": {}
      },
      "source": [
        "#jsonから関心域の緯度・経度情報のみを抽出する．\n",
        "\n",
        "AREA = json_object[\"features\"][0][\"geometry\"]['coordinates'][0]"
      ],
      "execution_count": null,
      "outputs": []
    },
    {
      "cell_type": "code",
      "metadata": {
        "id": "Oj5w7poU3dv7",
        "colab_type": "code",
        "colab": {}
      },
      "source": [
        "import pandas as pd\n",
        "\n",
        "area = pd.DataFrame(AREA,\n",
        "                  columns=['longtitude', 'latitude'])"
      ],
      "execution_count": null,
      "outputs": []
    },
    {
      "cell_type": "code",
      "metadata": {
        "id": "Rdecuzw23eBU",
        "colab_type": "code",
        "colab": {}
      },
      "source": [
        "area_d =[[area['longtitude'].min(), area['latitude'].max()],\n",
        " [area['longtitude'].max(), area['latitude'].max()],\n",
        " [area['longtitude'].max(), area['latitude'].min()],\n",
        " [area['longtitude'].min(), area['latitude'].min()],\n",
        " [area['longtitude'].min(), area['latitude'].max()]]"
      ],
      "execution_count": null,
      "outputs": []
    },
    {
      "cell_type": "code",
      "metadata": {
        "id": "qF4XHV8Q3d0n",
        "colab_type": "code",
        "colab": {}
      },
      "source": [
        "AREA = area_d\n",
        "AREA"
      ],
      "execution_count": null,
      "outputs": []
    },
    {
      "cell_type": "markdown",
      "metadata": {
        "id": "i_xjRIWepKQJ",
        "colab_type": "text"
      },
      "source": [
        "関心範囲の確認"
      ]
    },
    {
      "cell_type": "code",
      "metadata": {
        "id": "k0G6-I7OpOQq",
        "colab_type": "code",
        "colab": {}
      },
      "source": [
        "m = folium.Map([(AREA[0][1]+AREA[len(AREA)-2][1])/2,(AREA[0][0]+AREA[len(AREA)-3][0])/2], zoom_start=15)\n",
        "\n",
        "folium.GeoJson(str(object_name) +'_2.geojson').add_to(m)\n",
        "m"
      ],
      "execution_count": null,
      "outputs": []
    },
    {
      "cell_type": "markdown",
      "metadata": {
        "id": "C8Cpwdnsplng",
        "colab_type": "text"
      },
      "source": [
        "# Sentinel-1,2の観測画像の取得と解析"
      ]
    },
    {
      "cell_type": "code",
      "metadata": {
        "id": "l2L5cUWa_FIz",
        "colab_type": "code",
        "colab": {}
      },
      "source": [
        "region=ee.Geometry.Rectangle(area['longtitude'].min(),area['latitude'].min(), area['longtitude'].max(), area['latitude'].max())"
      ],
      "execution_count": null,
      "outputs": []
    },
    {
      "cell_type": "code",
      "metadata": {
        "id": "3P2ftEFG_gN9",
        "colab_type": "code",
        "colab": {}
      },
      "source": [
        "region['coordinates'][0]"
      ],
      "execution_count": null,
      "outputs": []
    },
    {
      "cell_type": "markdown",
      "metadata": {
        "id": "NfjQho1KfwqM",
        "colab_type": "text"
      },
      "source": [
        "Sentinel-1\n",
        "\n",
        "https://developers.google.com/earth-engine/datasets/catalog/COPERNICUS_S1_GRD\n",
        "\n",
        "Dataset Availability\n",
        "2014-10-03T00:00:00 - 2020-08-13T00:00:00\n",
        "\n"
      ]
    },
    {
      "cell_type": "markdown",
      "metadata": {
        "id": "Mn3GW1IqwENC",
        "colab_type": "text"
      },
      "source": [
        "Sentinel-2 MSI: MultiSpectral Instrument, Level-1C 画像　\n",
        "\n",
        "https://developers.google.com/earth-engine/datasets/catalog/COPERNICUS_S2\n",
        "\n",
        "\n",
        "2015-06-23T00:00:00 - 2020-08-13T00:00:00\n",
        "\n",
        "SPACECRAFT_NAME\tSTRING\t\n",
        "Sentinel-2 spacecraft name: Sentinel-2A, Sentinel-2B\n",
        "\n",
        "CLOUDY_PIXEL_PERCENTAGE\tDOUBLE\t\n",
        "Granule-specific cloudy pixel percentage taken from the original metadata\n"
      ]
    },
    {
      "cell_type": "code",
      "metadata": {
        "id": "jlHLdA8_AM8I",
        "colab_type": "code",
        "colab": {}
      },
      "source": [
        "# 期間を指定\n",
        "from_date='2019-01-01'\n",
        "to_date='2020-08-31'\n",
        "\n",
        "# 保存するフォルダ名\n",
        "dir_name_s1 = 'GEE_Sentinel1_' + object_name\n",
        "dir_name_s2 = 'GEE_Sentinel2_' + object_name"
      ],
      "execution_count": null,
      "outputs": []
    },
    {
      "cell_type": "code",
      "metadata": {
        "id": "3G5rPaaS_FGy",
        "colab_type": "code",
        "colab": {}
      },
      "source": [
        "#region=ee.Geometry.Rectangle([139.7123, 35.676, 139.7164, 35.680])\n",
        "\n",
        "def cloudMasking(image):\n",
        "    qa = image.select('QA60')\n",
        "    cloudBitMask = 1 << 10  \n",
        "    cirrusBitMask = 1 << 11\n",
        "    mask = qa.bitwiseAnd(cloudBitMask).eq(0).And(qa.bitwiseAnd(cirrusBitMask).eq(0))\n",
        "    return image.updateMask(mask).divide(10000)\n",
        "\n",
        "def ImageExport(image,description,folder,region,scale):\n",
        "    task = ee.batch.Export.image.toDrive(image=image,description=description,folder=folder,region=region,scale=scale)\n",
        "    task.start()\n",
        "\n",
        "Sentinel1 = ee.ImageCollection('COPERNICUS/S1_GRD').filterBounds(region).filterDate(parse(from_date),parse(to_date)).filter(ee.Filter.eq('orbitProperties_pass', 'ASCENDING')).select(['VV'])\n",
        "Sentinel2 = ee.ImageCollection('COPERNICUS/S2').filterBounds(region).filterDate(parse(from_date),parse(to_date)).filterMetadata('CLOUDY_PIXEL_PERCENTAGE','less_than', 20).map(cloudMasking).select(['B4','B3','B2'])\n",
        "\n",
        "imageList_s1 = Sentinel1.toList(300)\n",
        "imageList_s2 = Sentinel2.toList(300) "
      ],
      "execution_count": null,
      "outputs": []
    },
    {
      "cell_type": "code",
      "metadata": {
        "id": "GkQxyWfGBeVE",
        "colab_type": "code",
        "colab": {}
      },
      "source": [
        "for i in range(imageList_s1.size().getInfo()):\n",
        "    image = ee.Image(imageList_s1.get(i))\n",
        "    ImageExport(image.reproject(crs='EPSG:4326',scale=10),image.get('system:index').getInfo(),dir_name_s1,region['coordinates'][0],10)"
      ],
      "execution_count": null,
      "outputs": []
    },
    {
      "cell_type": "code",
      "metadata": {
        "id": "nbxzMvqMBhRj",
        "colab_type": "code",
        "colab": {}
      },
      "source": [
        "for i in range(imageList_s2.size().getInfo()):\n",
        "    image = ee.Image(imageList_s2.get(i))\n",
        "    ImageExport(image.reproject(crs='EPSG:4326',scale=10),image.get('system:index').getInfo(),dir_name_s2,region['coordinates'][0],10)"
      ],
      "execution_count": null,
      "outputs": []
    },
    {
      "cell_type": "code",
      "metadata": {
        "id": "YAI7TWjP6xjg",
        "colab_type": "code",
        "colab": {}
      },
      "source": [
        "# 時系列で可視化\n",
        "s2_path = '/content/drive/My Drive/' + dir_name_s2 + '/'\n",
        "files =os.listdir(s2_path)\n",
        "files.sort()\n",
        "\n",
        "plt.figure(figsize=(25, 25))\n",
        "j=0\n",
        "\n",
        "v = len(files)//5 +1 \n",
        "for i in range(len(files)):\n",
        "  # 画像を1シーンずつ取得して可視化\n",
        "  with rasterio.open(s2_path + files[i]) as src:\n",
        "      arr = src.read()\n",
        "  j+=1# 画像のプロット位置をシフトさせ配置\n",
        "  plt.subplot(v,5,j)\n",
        "  arrayImg = np.asarray(arr).transpose(1,2,0).astype(np.float32)*2 #輝度を2倍に明るさを補正．\n",
        "  plt.imshow(arrayImg)\n",
        "  plt.title(files[i][0:8])# ファイル名から日付を取得\n",
        "  #plt.tight_layout()"
      ],
      "execution_count": null,
      "outputs": []
    },
    {
      "cell_type": "code",
      "metadata": {
        "id": "zlHxLcQLPQf2",
        "colab_type": "code",
        "colab": {}
      },
      "source": [
        "s2_path = '/content/drive/My Drive/' + dir_name_s2 + '/'\n",
        "files =os.listdir(s2_path)\n",
        "files.sort()\n",
        "\n",
        "n = 0\n",
        "# データの読み込み\n",
        "with rasterio.open(s2_path  + files[n]) as src:\n",
        "    arr = src.read()\n",
        "\n",
        "#chanelとh，vの位置を変える\n",
        "arrayImg = np.asarray(arr).transpose(1,2,0).astype(np.float32)*2\n",
        "\n",
        "print(files[n][0:8])\n",
        "# 可視化\n",
        "plt.imshow(arrayImg)"
      ],
      "execution_count": null,
      "outputs": []
    },
    {
      "cell_type": "code",
      "metadata": {
        "id": "6bEtFHvmZOs2",
        "colab_type": "code",
        "colab": {}
      },
      "source": [
        "n = len(files) - 1\n",
        "# データの読み込み\n",
        "with rasterio.open(s2_path  + files[n]) as src:\n",
        "    arr = src.read()\n",
        "\n",
        "#chanelとh，vの位置を変える\n",
        "arrayImg = np.asarray(arr).transpose(1,2,0).astype(np.float32)*2\n",
        "\n",
        "print(files[n][0:8])\n",
        "# 可視化\n",
        "plt.imshow(arrayImg)"
      ],
      "execution_count": null,
      "outputs": []
    },
    {
      "cell_type": "code",
      "metadata": {
        "id": "Vz0Q1qQak4Q3",
        "colab_type": "code",
        "colab": {}
      },
      "source": [
        "# 時系列で可視化\n",
        "s1_path = '/content/drive/My Drive/' + dir_name_s1 + '/'\n",
        "files =os.listdir(s1_path)\n",
        "files.sort()\n",
        "\n",
        "plt.figure(figsize=(20, 40))\n",
        "j=0\n",
        "\n",
        "v = len(files)//5 +1 \n",
        "for i in range(len(files)):\n",
        "  # 画像を1シーンずつ取得して可視化\n",
        "  with rasterio.open(s1_path + files[i]) as src:\n",
        "      arr = src.read()\n",
        "  j+=1# 画像のプロット位置をシフトさせ配置\n",
        "  plt.subplot(v,5,j)\n",
        "  plt.imshow(arr[0], cmap='gray')\n",
        "  plt.title(files[i][33:41])# ファイル名から日付を取得\n",
        "  plt.tight_layout()"
      ],
      "execution_count": null,
      "outputs": []
    },
    {
      "cell_type": "code",
      "metadata": {
        "id": "F0y6AymDNUc2",
        "colab_type": "code",
        "colab": {}
      },
      "source": [
        "# データの読み込み\n",
        "n = 4\n",
        "\n",
        "with rasterio.open(s1_path + files[n]) as src:\n",
        "    arr = src.read()\n",
        "\n",
        "print(files[n][33:41])\n",
        "# 可視化\n",
        "plt.imshow(arr[0], cmap='gray')"
      ],
      "execution_count": null,
      "outputs": []
    },
    {
      "cell_type": "code",
      "metadata": {
        "id": "-Bl7eGDDNtVT",
        "colab_type": "code",
        "colab": {}
      },
      "source": [
        "# データの読み込み\n",
        "n = len(files) -1\n",
        "\n",
        "with rasterio.open(s1_path + files[n]) as src:\n",
        "    arr = src.read()\n",
        "\n",
        "print(files[n][33:41])\n",
        "# 可視化\n",
        "plt.imshow(arr[0], cmap='gray')"
      ],
      "execution_count": null,
      "outputs": []
    },
    {
      "cell_type": "code",
      "metadata": {
        "id": "-O3fRn__nAvw",
        "colab_type": "code",
        "colab": {}
      },
      "source": [
        "# 当該エリアの反射強度の合計値を時系列グラフ化\n",
        "sum_signal = []\n",
        "label_signal = []\n",
        "for i in range(len(files)):\n",
        "  # 画像を1シーンずつ取得して可視化\n",
        "  with rasterio.open(s1_path + files[i]) as src:\n",
        "      arr = src.read()\n",
        "  sum_signal.append(arr.sum())\n",
        "  label_signal.append(files[i][33:41])\n",
        "\n",
        "# 可視化\n",
        "fig,ax = plt.subplots(figsize=(15,6))\n",
        "plt.plot(sum_signal, marker='o')\n",
        "ax.set_xticks(np.arange(0,len(files)))\n",
        "ax.set_xticklabels(label_signal, rotation=90)\n",
        "plt.title('Trend in parking lot usage at TDL.')\n",
        "plt.xlabel('date')\n",
        "plt.show()"
      ],
      "execution_count": null,
      "outputs": []
    },
    {
      "cell_type": "code",
      "metadata": {
        "id": "cYV3TIJt9AD8",
        "colab_type": "code",
        "colab": {}
      },
      "source": [
        ""
      ],
      "execution_count": null,
      "outputs": []
    }
  ]
}